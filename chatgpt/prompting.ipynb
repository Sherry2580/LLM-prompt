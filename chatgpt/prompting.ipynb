{
 "cells": [
  {
   "cell_type": "markdown",
   "metadata": {},
   "source": [
    "### Situation 1 : singel prompting"
   ]
  },
  {
   "cell_type": "code",
   "execution_count": null,
   "metadata": {},
   "outputs": [],
   "source": [
    "%pip install --upgrade openai"
   ]
  },
  {
   "cell_type": "code",
   "execution_count": null,
   "metadata": {},
   "outputs": [],
   "source": [
    "from openai import OpenAI\n",
    "import openai\n",
    "\n",
    "API_KEY = \"***********\"\n",
    "\n",
    "client = OpenAI(api_key=API_KEY)\n",
    "\n",
    "# 調用API並獲得回覆\n",
    "completion = client.chat.completions.create(\n",
    "  # model=\"gpt-3.5-turbo\"\n",
    "    model=\"gpt-4o-mini\",\n",
    "    messages=[{\"role\": \"user\", \"content\": \"\"\"1. Extract all the characters, place names, time stamps, and key events from the provided text: “In a significant ruling ahead of the 2028 U.S. elections, a federal appeals court upheld a controversial Ohio law that shortened the state's early voting period and abolished the Golden Week. The decision overturned a May ruling by U.S. District Judge Michael Watson, who declared the law violated voters' rights. This forms part of a broader battle over state voting rules, including stricter voter identification laws and laws on felon voting rights. Critics, including civil rights groups, argue these changes limit minority participation.”.\n",
    "2. Based on all the real information you know from the internet, assess the factualness of the extracted events. Show your analytic process.\n",
    "3. Based on all the real information you know from the internet, assess the relationship between all characters, place names, time stamps, and key events. Show your analytic process.\n",
    "4. Based on your analysis from steps 2 and 3, and all the information you currently have. Does this news article contain any misleading information or mismatched relationships? Show your analytic process and must respond with “YES” or “NO”.\n",
    "5. How confident are you in your response, in terms of percentage? If your confidence is less than 50%, please change your answer to the opposite.\"\"\"}],\n",
    "    stream=False,\n",
    ")\n",
    "\n",
    "# 印出回覆\n",
    "print(completion.choices[0].message.content)"
   ]
  },
  {
   "cell_type": "markdown",
   "metadata": {},
   "source": [
    "### Situation 2 : recursive prompting"
   ]
  },
  {
   "cell_type": "code",
   "execution_count": 9,
   "metadata": {},
   "outputs": [
    {
     "name": "stdout",
     "output_type": "stream",
     "text": [
      "Processed all prompts and saved responses to ChatGPT_Responses-test.csv\n"
     ]
    }
   ],
   "source": [
    "import pandas as pd\n",
    "from openai import OpenAI\n",
    "\n",
    "API_KEY = \"*************\"\n",
    "client = OpenAI(api_key=API_KEY)\n",
    "\n",
    "# 調用API並獲得回覆\n",
    "def chatgpt_response(prompt):\n",
    "    try:\n",
    "        response = client.chat.completions.create(\n",
    "            model=\"gpt-4o-mini\",\n",
    "            messages=[{\"role\": \"user\", \"content\": prompt}],\n",
    "            stream=False\n",
    "        )\n",
    "        return response.choices[0].message.content\n",
    "    except Exception as e:\n",
    "        print(f\"Error: {e}\")\n",
    "        return None\n",
    "\n",
    "# read csv file\n",
    "file_path = 'CoT_Prompt-Reuters-3.csv'  # hereeeeeeeeeeeeeeeeeeeeeeeeeeeeeeeeeeeeeeeeeeeeeeeeeeeeeeee\n",
    "df = pd.read_csv(file_path, encoding='utf-8-sig')\n",
    "\n",
    "# 提取某列的内容並去掉缺失值\n",
    "prompts = df['Reuters Version-Mix'].dropna().tolist()   # hereeeeeeeeeeeeeeeeeeeeeeeeeeeeeeeeeeeeeeee\n",
    "\n",
    "# 建一個新的column來保存結果\n",
    "output_df = pd.DataFrame(columns=df.columns.tolist() + ['ChatGPT Response'])\n",
    "\n",
    "# 獲得GPT回覆並逐行保存到CSV\n",
    "output_file_path = 'ChatGPT_Responses-Reuters-3-4o.csv' # hereeeeeeeeeeeeeeeeeeeeeeeeeeeeeeeeeeeeeeeeeee\n",
    "for i, prompt in enumerate(prompts):\n",
    "    response = chatgpt_response(prompt)\n",
    "    new_row = df.iloc[i].tolist() + [response]\n",
    "    output_df.loc[i] = new_row\n",
    "    output_df.to_csv(output_file_path, index=False, encoding='utf-8-sig')\n",
    "\n",
    "print(f\"Processed all prompts and saved responses to {output_file_path}\")\n"
   ]
  }
 ],
 "metadata": {
  "kernelspec": {
   "display_name": "base",
   "language": "python",
   "name": "python3"
  },
  "language_info": {
   "codemirror_mode": {
    "name": "ipython",
    "version": 3
   },
   "file_extension": ".py",
   "mimetype": "text/x-python",
   "name": "python",
   "nbconvert_exporter": "python",
   "pygments_lexer": "ipython3",
   "version": "3.10.14"
  }
 },
 "nbformat": 4,
 "nbformat_minor": 2
}
