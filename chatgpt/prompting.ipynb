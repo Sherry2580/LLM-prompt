{
 "cells": [
  {
   "cell_type": "markdown",
   "metadata": {},
   "source": [
    "### Situation 1 : singel prompting"
   ]
  },
  {
   "cell_type": "code",
   "execution_count": null,
   "metadata": {},
   "outputs": [],
   "source": [
    "%pip install --upgrade openai"
   ]
  },
  {
   "cell_type": "code",
   "execution_count": 3,
   "metadata": {},
   "outputs": [
    {
     "name": "stdout",
     "output_type": "stream",
     "text": [
      "1. \n",
      "Characters: President Donald Trump, U.S. District Judge Gonzalo Curiel\n",
      "Place Names: Trump University\n",
      "Time Stamps: 2028 US elections\n",
      "Key Events: $25 million settlement paid by President Donald Trump over the Trump University lawsuits, candidates calling for stricter regulations on private universities referencing the settlement\n",
      "\n",
      "2. To assess the factualness of the extracted events, we can check various news sources, official statements, court records, and credible sources to confirm the accuracy of the information provided in the text. In this case, we can verify the existence of the $25 million settlement paid by President Donald Trump over the Trump University lawsuits, the impact of this settlement on the 2028 US elections, and the reference to U.S. District Judge Gonzalo Curiel's approval of the settlement as a landmark victory for students.\n",
      "\n",
      "3. Based on real information available, we can confirm that President Donald Trump was involved in a $25 million settlement over Trump University lawsuits. U.S. District Judge Gonzalo Curiel did preside over the case, and the settlement did have an impact on the 2028 US elections, with candidates calling for stricter regulations on private universities. This indicates a relationship between the characters, place names, time stamps, and key events mentioned in the text.\n",
      "\n",
      "4. Analyzing the information provided in the text and comparing it to real information available, we do not find any misleading information or mismatched relationships. The events and relationships mentioned in the text align with known facts.\n",
      "\n",
      "Therefore, the response is NO.\n",
      "\n",
      "5. I am 95% confident in my response.\n"
     ]
    }
   ],
   "source": [
    "import os\n",
    "from openai import OpenAI\n",
    "from dotenv import load_dotenv\n",
    "\n",
    "load_dotenv()   # take environment variables from .env.\n",
    "API_KEY = os.getenv('OPENAI_API_KEY')\n",
    "client = OpenAI(api_key=API_KEY)\n",
    "\n",
    "completion = client.chat.completions.create(\n",
    "    model=\"gpt-3.5-turbo\",\n",
    "    messages=[{\"role\": \"user\", \"content\": \"\"\"1. Extract all the characters, place names, time stamps, and key events from the provided text: “The $25 million settlement paid by President Donald Trump over the Trump University lawsuits continues to impact the 2028 US elections. Candidates are calling for stricter regulations on private universities, referencing the settlement approved by U.S. District Judge Gonzalo Curiel as a landmark victory for students.”.\n",
    "2. Based on all the real information you know from the internet, assess the factualness of the extracted events. Show your analytic process.\n",
    "3. Based on all the real information you know from the internet, assess the relationship between all characters, place names, time stamps, and key events. Show your analytic process.\n",
    "4. Based on your analysis from steps 2 and 3, and all the information you currently have. Does this news article contain any misleading information or mismatched relationships? Show your analytic process and must respond with “YES” or “NO”.\n",
    "5. How confident are you in your response, in terms of percentage? If your confidence is less than 50%, please change your answer to the opposite.\"\"\"}],\n",
    "    stream=False,\n",
    ")\n",
    "\n",
    "print(completion.choices[0].message.content)"
   ]
  },
  {
   "cell_type": "markdown",
   "metadata": {},
   "source": [
    "### Situation 2 : recursive prompting"
   ]
  },
  {
   "cell_type": "code",
   "execution_count": null,
   "metadata": {},
   "outputs": [
    {
     "name": "stdout",
     "output_type": "stream",
     "text": [
      "Processed all prompts and saved responses to ChatGPT_Responses-test.csv\n"
     ]
    }
   ],
   "source": [
    "import os\n",
    "import pandas as pd\n",
    "from openai import OpenAI\n",
    "from dotenv import load_dotenv\n",
    "\n",
    "load_dotenv()\n",
    "API_KEY = os.getenv('OPENAI_API_KEY')\n",
    "client = OpenAI(api_key=API_KEY)\n",
    "\n",
    "def chatgpt_response(prompt):\n",
    "    try:\n",
    "        response = client.chat.completions.create(\n",
    "            model=\"gpt-4o-mini\",\n",
    "            messages=[{\"role\": \"user\", \"content\": prompt}],\n",
    "            stream=False\n",
    "        )\n",
    "        return response.choices[0].message.content\n",
    "    except Exception as e:\n",
    "        print(f\"Error: {e}\")\n",
    "        return None\n",
    "\n",
    "file_path = 'CoT_Prompt-Reuters-3.csv'\n",
    "output_file_path = 'ChatGPT_Responses-test.csv'\n",
    "\n",
    "df = pd.read_csv(file_path, encoding='utf-8-sig')\n",
    "prompts = df['Reuters Version-Mix'].dropna().tolist()\n",
    "output_df = pd.DataFrame(columns=df.columns.tolist() + ['ChatGPT Response'])\n",
    "\n",
    "for i, prompt in enumerate(prompts):\n",
    "    response = chatgpt_response(prompt)\n",
    "    new_row = df.iloc[i].tolist() + [response]\n",
    "    output_df.loc[i] = new_row\n",
    "    output_df.to_csv(output_file_path, index=False, encoding='utf-8-sig')\n",
    "\n",
    "print(f\"Processed all prompts and saved responses to {output_file_path}\")\n"
   ]
  }
 ],
 "metadata": {
  "kernelspec": {
   "display_name": "acne",
   "language": "python",
   "name": "python3"
  },
  "language_info": {
   "codemirror_mode": {
    "name": "ipython",
    "version": 3
   },
   "file_extension": ".py",
   "mimetype": "text/x-python",
   "name": "python",
   "nbconvert_exporter": "python",
   "pygments_lexer": "ipython3",
   "version": "3.10.14"
  }
 },
 "nbformat": 4,
 "nbformat_minor": 2
}
