{
 "cells": [
  {
   "cell_type": "markdown",
   "metadata": {},
   "source": [
    "### Try Gemini API(可以記憶上下文) "
   ]
  },
  {
   "cell_type": "code",
   "execution_count": null,
   "metadata": {},
   "outputs": [
    {
     "name": "stdout",
     "output_type": "stream",
     "text": [
      "好的，這有一首關於春天的詩：\n",
      "\n",
      "**春日**\n",
      "\n",
      "東風拂柳絮，暖意染山川，\n",
      "冰雪消融盡，嫩芽破土還。\n",
      "燕子歸來晚，呢喃訴歲寒，\n",
      "桃花笑靨綻，點綴杏花團。\n",
      "\n",
      "溪水潺潺流，鳥鳴枝上歡，\n",
      "朝陽穿雲霧，光影舞翩翩。\n",
      "田野披新綠，生機盎然間，\n",
      "萬物甦醒日，春色滿人間。\n",
      "\n",
      "希望你喜歡！\n",
      "\n",
      "Okay, here's the English translation of the poem:\n",
      "\n",
      "**Spring Day**\n",
      "\n",
      "The east wind brushes the willow's fluff, warmth dyes the mountains and streams,\n",
      "Ice and snow melt away, tender sprouts return from the earth.\n",
      "Swallows arrive late, chirping of the cold years,\n",
      "Peach blossoms bloom with smiling faces, adorning apricot flower clusters.\n",
      "\n",
      "The stream murmurs softly, birds sing joyfully on the branches,\n",
      "The morning sun pierces the clouds and mist, light and shadow dance gracefully.\n",
      "The fields are covered in new green, vitality is abundant,\n",
      "On this day of awakening, spring colors fill the human world.\n",
      "\n"
     ]
    }
   ],
   "source": [
    "import os\n",
    "import google.generativeai as genai\n",
    "from dotenv import load_dotenv\n",
    "\n",
    "load_dotenv()\n",
    "GOOGLE_API_KEY = os.getenv('GOOGLE_API_KEY')\n",
    "\n",
    "genai.configure(api_key=GOOGLE_API_KEY)\n",
    "model = genai.GenerativeModel(\"gemini-2.0-flash-lite\")\n",
    "\n",
    "# 用 chat history 記憶對話上下文\n",
    "chat = model.start_chat(history=[])\n",
    "\n",
    "response = chat.send_message(\"幫我寫一首關於春天的詩\")\n",
    "print(response.text)\n",
    "\n",
    "response = chat.send_message(\"你剛剛寫的詩翻譯成英文\")\n",
    "print(response.text)\n"
   ]
  },
  {
   "cell_type": "markdown",
   "metadata": {},
   "source": [
    "### Try Gemini API(無記憶上下文功能) "
   ]
  },
  {
   "cell_type": "code",
   "execution_count": null,
   "metadata": {},
   "outputs": [
    {
     "name": "stdout",
     "output_type": "stream",
     "text": [
      "好的，這是一首關於春天的詩：\n",
      "\n",
      "**春日絮語**\n",
      "\n",
      "微風拂柳梢，新綠染枝頭，\n",
      "冰雪消融盡，暖陽笑眼柔。\n",
      "溪水潺潺唱，花苞點點羞，\n",
      "燕子啣泥忙，築巢樂悠悠。\n",
      "\n",
      "嫩芽探頭望，大地換新裝，\n",
      "蝴蝶翩翩舞，蜂兒嗡嗡響。\n",
      "微雨洗塵埃，空氣更芬芳，\n",
      "田野麥浪滾，金黃灑滿鄉。\n",
      "\n",
      "思緒隨風遠，心緒也蕩漾，\n",
      "莫負好春光，盡情去徜徉。\n",
      "珍惜這美好，感受這芬芳，\n",
      "歲月如歌唱，希望永閃光。\n",
      "\n"
     ]
    }
   ],
   "source": [
    "import os\n",
    "import google.generativeai as genai\n",
    "from dotenv import load_dotenv\n",
    "\n",
    "load_dotenv()\n",
    "GOOGLE_API_KEY = os.getenv('GOOGLE_API_KEY')\n",
    "\n",
    "genai.configure(api_key=GOOGLE_API_KEY)\n",
    "model = genai.GenerativeModel(\"gemini-2.0-flash-lite\")\n",
    "\n",
    "response = model.generate_content(\"幫我寫一首關於春天的詩\")\n",
    "print(response.text)\n"
   ]
  }
 ],
 "metadata": {
  "kernelspec": {
   "display_name": "gemini",
   "language": "python",
   "name": "python3"
  },
  "language_info": {
   "codemirror_mode": {
    "name": "ipython",
    "version": 3
   },
   "file_extension": ".py",
   "mimetype": "text/x-python",
   "name": "python",
   "nbconvert_exporter": "python",
   "pygments_lexer": "ipython3",
   "version": "3.10.16"
  }
 },
 "nbformat": 4,
 "nbformat_minor": 2
}
